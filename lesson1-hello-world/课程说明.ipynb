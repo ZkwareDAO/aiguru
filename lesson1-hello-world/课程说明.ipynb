{
 "cells": [
  {
   "cell_type": "markdown",
   "metadata": {},
   "source": [
    "### 课程目标\n",
    "1、学会python 写hello world </br>\n",
    "2、可以提交自己的代码到github </br>\n",
    "3、提交代码里如果有for循环、函数实现等高级功能更好 </br>\n",
    "4、配置pip国内源，学会安装缺失的python 包 </br>\n",
    "\n",
    "完成时间：12月15日\n",
    "\n",
    "@鲍亮 @王木真 @蔡从德 @刘思缘 </br>\n",
    "\n",
    "@蔡志瑞 负责输出一个配置国内pip源的教程，以及教会大家如何用pip 安装包\n",
    "\n",
    "作业文件名： </br>\n",
    "baoliang_hello_world.py </br>"
   ]
  },
  {
   "cell_type": "markdown",
   "metadata": {},
   "source": []
  }
 ],
 "metadata": {
  "language_info": {
   "name": "python"
  }
 },
 "nbformat": 4,
 "nbformat_minor": 2
}
