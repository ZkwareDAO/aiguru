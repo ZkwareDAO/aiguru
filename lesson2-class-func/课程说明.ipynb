{
 "cells": [
  {
   "cell_type": "markdown",
   "metadata": {},
   "source": [
    "### 课程目标\n",
    "1、理解函数、类的概念 </br>\n",
    "2、写一个函数，输入年月日，输出是这一年的第几天 </br>\n",
    "\n",
    "完成时间：12月15日\n",
    "\n",
    "@蔡志瑞 @林一帆 @陈嘉铭 @鲍亮 @王木真 @蔡从德 @刘思缘</br>\n",
    "\n",
    "\n",
    "作业文件名： </br>\n",
    "baoliang_day_of_year.py </br>"
   ]
  }
 ],
 "metadata": {
  "language_info": {
   "name": "python"
  }
 },
 "nbformat": 4,
 "nbformat_minor": 2
}
