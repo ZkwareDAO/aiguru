{
 "cells": [
  {
   "cell_type": "markdown",
   "metadata": {},
   "source": [
    "### 课程目标\n",
    "1、从一个文本文件中，读取各种信息，并处理成csv表格形式 </br>\n",
    "2、学会正则表达式、文件I/O（input，output） </br>\n",
    "\n",
    "完成时间：12月份\n",
    "\n",
    "@蔡志瑞 @林一帆 @陈嘉铭 @鲍亮 @王木真 @蔡从德 @刘思缘 </br>\n",
    "\n",
    "作业文件名： </br>\n",
    "baoliang_reg_io.py </br>"
   ]
  }
 ],
 "metadata": {
  "language_info": {
   "name": "python"
  }
 },
 "nbformat": 4,
 "nbformat_minor": 2
}
