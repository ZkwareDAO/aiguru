{
 "cells": [
  {
   "cell_type": "markdown",
   "metadata": {},
   "source": [
    "\n",
    "## 变量命名\n",
    "避免 x，y, z这样简单命名，而代之以 year，month，day\n",
    "\n",
    "## 一个函数不要写太长\n",
    "\n",
    "## 不要有太多if else，可以用查表的方法代替"
   ]
  },
  {
   "cell_type": "markdown",
   "metadata": {},
   "source": [
    "不要过2次的if嵌套。"
   ]
  },
  {
   "cell_type": "code",
   "execution_count": null,
   "metadata": {
    "vscode": {
     "languageId": "plaintext"
    }
   },
   "outputs": [],
   "source": [
    "不要更改输入的函数的值，新建一个。\n"
   ]
  },
  {
   "cell_type": "code",
   "execution_count": null,
   "metadata": {
    "vscode": {
     "languageId": "plaintext"
    }
   },
   "outputs": [],
   "source": [
    "\n",
    "不要用空格命名变量，用下划线。\n"
   ]
  }
 ],
 "metadata": {
  "language_info": {
   "name": "python"
  }
 },
 "nbformat": 4,
 "nbformat_minor": 2
}
