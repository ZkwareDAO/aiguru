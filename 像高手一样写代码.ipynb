{
 "cells": [
  {
   "cell_type": "markdown",
   "metadata": {},
   "source": [
    "\n",
    "## 变量命名\n",
    "避免 x，y, z这样简单命名，而代之以 year，month，day\n",
    "\n",
    "## 一个函数不要写太长\n",
    "\n",
    "## 不要有太多if else，可以用查表的方法代替"
   ]
  }
 ],
 "metadata": {
  "language_info": {
   "name": "python"
  }
 },
 "nbformat": 4,
 "nbformat_minor": 2
}
