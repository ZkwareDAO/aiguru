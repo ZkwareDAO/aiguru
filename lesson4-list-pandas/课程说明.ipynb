{
 "cells": [
  {
   "cell_type": "markdown",
   "metadata": {},
   "source": [
    "### 课程目标\n",
    "1、学习list，pandas </br>\n",
    "2、学会pandas读取csv文件，输出dataframe </br>\n",
    "\n",
    "完成时间：12月\n",
    "\n",
    "@蔡志瑞 @林一帆 @蔡从德 @刘思缘 @陈嘉铭 @鲍亮 @王木真 </br>\n",
    "\n",
    " \n",
    "\n",
    "作业文件名： </br>\n",
    "baoliang_pandas_list.py </br>"
   ]
  }
 ],
 "metadata": {
  "language_info": {
   "name": "python"
  }
 },
 "nbformat": 4,
 "nbformat_minor": 2
}
